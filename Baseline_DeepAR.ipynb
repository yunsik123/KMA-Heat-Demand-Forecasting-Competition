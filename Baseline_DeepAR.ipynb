{
  "cells": [
    {
      "cell_type": "code",
      "execution_count": 4,
      "metadata": {
        "colab": {
          "base_uri": "https://localhost:8080/"
        },
        "id": "StGzYET17o7r",
        "outputId": "fa98d409-350e-459a-ba23-7f96083388a4"
      },
      "outputs": [
        {
          "name": "stdout",
          "output_type": "stream",
          "text": [
            "Mounted at /content/gdrive\n"
          ]
        }
      ],
      "source": [
        "from google.colab import drive\n",
        "drive.mount('/content/gdrive')"
      ]
    },
    {
      "cell_type": "code",
      "execution_count": 5,
      "metadata": {
        "id": "8ZwCmOG67xBe"
      },
      "outputs": [],
      "source": [
        "import numpy as np\n",
        "import pandas as pd\n",
        "import matplotlib.pyplot as plt\n",
        "import seaborn as sns\n",
        "\n",
        "import torch\n",
        "from torch import nn\n",
        "from torch.utils.data import Dataset, DataLoader\n",
        "\n",
        "\n",
        "from sklearn.preprocessing import MinMaxScaler\n",
        "from sklearn.metrics import mean_squared_error\n",
        "\n",
        "import warnings\n",
        "warnings.filterwarnings('ignore')"
      ]
    },
    {
      "cell_type": "code",
      "execution_count": 6,
      "metadata": {
        "id": "hzQJfGG97w_m"
      },
      "outputs": [],
      "source": [
        "df = pd.read_csv('/content/gdrive/MyDrive/train_heat.csv', encoding='CP949')\n",
        "df = df.replace(-99, np.nan)\n",
        "df = df.drop(columns='Unnamed: 0')\n",
        "\n",
        "df['train_heat.tm'] = pd.to_datetime(df['train_heat.tm'].astype(str), format='%Y%m%d%H')\n",
        "df = df.sort_values('train_heat.tm').set_index('train_heat.tm')\n",
        "\n",
        "hour = df.index.hour\n",
        "df.loc[~((hour >= 8) & (hour <= 18)), 'train_heat.si'] = 0\n",
        "\n",
        "cols_to_impute = df.columns[df.isnull().any()].tolist()\n",
        "for col in cols_to_impute:\n",
        "    df[col] = df[col].interpolate(method='linear')\n",
        "\n",
        "df['year'] = df.index.year\n",
        "df['month'] = df.index.month\n",
        "df['day'] = df.index.day\n",
        "df['hour'] = df.index.hour\n",
        "df['weekday'] = df.index.weekday\n",
        "\n",
        "df['heating_season'] = df['month'].apply(lambda x: 1 if x in [10, 11, 12, 1, 2, 3, 4] else 0)\n",
        "df['temp_category'] = df['train_heat.ta'].apply(lambda x: 1 if x >= 20 else 0)\n",
        "\n",
        "def peak_time_category(hour):\n",
        "    if 0 <= hour <= 6:\n",
        "        return 0\n",
        "    elif 6 < hour <= 12:\n",
        "        return 1\n",
        "    elif 12 < hour <= 18:\n",
        "        return 2\n",
        "    else:\n",
        "        return 3\n",
        "\n",
        "df['peak_time'] = df['hour'].apply(peak_time_category)\n",
        "\n",
        "for lag in [1, 2, 3]:\n",
        "    lag_col = f'ta_lag_{lag}'\n",
        "    df[lag_col] = df['train_heat.ta'].shift(lag)\n",
        "    df[lag_col] = df[lag_col].interpolate(method='linear', limit_direction='both')\n",
        "\n",
        "base_temp = 18.0\n",
        "df['HDD'] = (base_temp - df['train_heat.ta']).clip(lower=0)\n",
        "df['CDD'] = (df['train_heat.ta'] - base_temp).clip(lower=0)\n",
        "df['branch_temp_abs_deviation'] = (df['train_heat.ta'] - df.groupby('train_heat.branch_id')['train_heat.ta'].transform('mean')).abs()\n",
        "\n",
        "df = df.query('`train_heat.branch_id` in [\"A\", \"B\", \"D\"]')\n",
        "\n",
        "target = 'train_heat.heat_demand'\n",
        "features = [\n",
        "    \"train_heat.ta\", \"train_heat.wd\", \"train_heat.ws\", \"train_heat.rn_day\", \"train_heat.rn_hr1\",\n",
        "    \"train_heat.hm\", \"train_heat.si\", \"train_heat.ta_chi\",\n",
        "    \"ta_lag_1\", \"ta_lag_2\", \"ta_lag_3\", \"HDD\", \"CDD\", \"branch_temp_abs_deviation\"\n",
        "]\n",
        "\n",
        "df = pd.get_dummies(df, columns=[\"month\", \"weekday\", \"heating_season\", \"temp_category\", \"peak_time\"])\n",
        "\n",
        "df_train = df[df['year'] == 2021]\n",
        "df_test = df[df['year'] == 2022]\n",
        "\n",
        "X_train = df_train[features + [col for col in df.columns if col.startswith(('month_', 'weekday_', 'heating_season_', 'temp_category_', 'peak_time_'))]]\n",
        "y_train = df_train[target]\n",
        "X_test = df_test[X_train.columns]\n",
        "y_test = df_test[target]\n",
        "\n",
        "scaler = MinMaxScaler()\n",
        "X_train = scaler.fit_transform(X_train)\n",
        "X_test = scaler.transform(X_test)\n"
      ]
    },
    {
      "cell_type": "code",
      "execution_count": 7,
      "metadata": {
        "colab": {
          "base_uri": "https://localhost:8080/"
        },
        "id": "I8wC84vs7w9X",
        "outputId": "98f4058e-752c-4e26-c7fd-5c6dbde85963"
      },
      "outputs": [
        {
          "name": "stdout",
          "output_type": "stream",
          "text": [
            "Epoch 1/20, Loss: 41094.9727\n",
            "Epoch 2/20, Loss: 30911.5929\n",
            "Epoch 3/20, Loss: 23455.0028\n",
            "Epoch 4/20, Loss: 18059.3067\n",
            "Epoch 5/20, Loss: 14225.5578\n",
            "Epoch 6/20, Loss: 11474.5250\n",
            "Epoch 7/20, Loss: 9544.6780\n",
            "Epoch 8/20, Loss: 8147.2304\n",
            "Epoch 9/20, Loss: 7148.5475\n",
            "Epoch 10/20, Loss: 6428.0328\n",
            "Epoch 11/20, Loss: 5921.8250\n",
            "Epoch 12/20, Loss: 5675.5877\n",
            "Epoch 13/20, Loss: 5389.3865\n",
            "Epoch 14/20, Loss: 5128.6376\n",
            "Epoch 15/20, Loss: 5048.1793\n",
            "Epoch 16/20, Loss: 5038.9676\n",
            "Epoch 17/20, Loss: 4836.5539\n",
            "Epoch 18/20, Loss: 4751.4827\n",
            "Epoch 19/20, Loss: 4787.7557\n",
            "Epoch 20/20, Loss: 4714.8801\n"
          ]
        }
      ],
      "source": [
        "# DeepAR Dataset\n",
        "# ---------------------\n",
        "class DeepARDataset(Dataset):\n",
        "    def __init__(self, X, y, window_size):\n",
        "        self.X = torch.tensor(X, dtype=torch.float32)\n",
        "        self.y = torch.tensor(y, dtype=torch.float32)\n",
        "        self.window_size = window_size\n",
        "\n",
        "    def __len__(self):\n",
        "        return len(self.X) - self.window_size\n",
        "\n",
        "    def __getitem__(self, idx):\n",
        "        x_seq = self.X[idx:idx+self.window_size]\n",
        "        y_seq = self.y[idx:idx+self.window_size]\n",
        "        target = self.y[idx+self.window_size]\n",
        "        return x_seq, y_seq.unsqueeze(-1), target\n",
        "\n",
        "# ---------------------\n",
        "# DeepAR Model\n",
        "# ---------------------\n",
        "class DeepAR(nn.Module):\n",
        "    def __init__(self, input_size, hidden_size, num_layers):\n",
        "        super().__init__()\n",
        "        self.rnn = nn.LSTM(input_size + 1, hidden_size, num_layers, batch_first=True)\n",
        "        self.fc = nn.Linear(hidden_size, 1)\n",
        "\n",
        "    def forward(self, x, y_hist):\n",
        "        inp = torch.cat((x, y_hist), dim=2)\n",
        "        out, _ = self.rnn(inp)\n",
        "        return self.fc(out[:, -1, :])\n",
        "\n",
        "# ---------------------\n",
        "# 학습 준비\n",
        "# ---------------------\n",
        "window_size = 48\n",
        "train_dataset = DeepARDataset(X_train, y_train.values, window_size)\n",
        "test_dataset = DeepARDataset(X_test, y_test.values, window_size)\n",
        "\n",
        "train_loader = DataLoader(train_dataset, batch_size=32, shuffle=True)\n",
        "test_loader = DataLoader(test_dataset, batch_size=32)\n",
        "\n",
        "device = torch.device(\"cuda\" if torch.cuda.is_available() else \"cpu\")\n",
        "model = DeepAR(input_size=X_train.shape[1], hidden_size=64, num_layers=2).to(device)\n",
        "optimizer = torch.optim.Adam(model.parameters(), lr=0.001)\n",
        "criterion = nn.MSELoss()\n",
        "\n",
        "# ---------------------\n",
        "# 학습\n",
        "# ---------------------\n",
        "epochs = 30\n",
        "for epoch in range(epochs):\n",
        "    model.train()\n",
        "    total_loss = 0\n",
        "    for x, y_hist, target in train_loader:\n",
        "        x, y_hist, target = x.to(device), y_hist.to(device), target.to(device).unsqueeze(1)\n",
        "        optimizer.zero_grad()\n",
        "        output = model(x, y_hist)\n",
        "        loss = criterion(output, target)\n",
        "        loss.backward()\n",
        "        optimizer.step()\n",
        "        total_loss += loss.item()\n",
        "    print(f\"Epoch {epoch+1}/{epochs}, Loss: {total_loss/len(train_loader):.4f}\")\n",
        "\n",
        "# ---------------------\n",
        "# 평가\n",
        "# ---------------------\n"
      ]
    },
    {
      "cell_type": "code",
      "execution_count": 8,
      "metadata": {
        "colab": {
          "base_uri": "https://localhost:8080/"
        },
        "id": "P8qKC6x87w62",
        "outputId": "329f980e-9729-4fa4-be9e-f17844a67605"
      },
      "outputs": [
        {
          "name": "stdout",
          "output_type": "stream",
          "text": [
            "RMSE: 74.13897357222955\n"
          ]
        }
      ],
      "source": [
        "model.eval()\n",
        "preds, trues = [], []\n",
        "with torch.no_grad():\n",
        "    for x, y_hist, target in test_loader:\n",
        "        x, y_hist = x.to(device), y_hist.to(device)\n",
        "        pred = model(x, y_hist).cpu().squeeze()\n",
        "        preds.append(pred)\n",
        "        trues.append(target)\n",
        "\n",
        "y_pred = torch.cat(preds).numpy()\n",
        "y_true = torch.cat(trues).numpy()\n",
        "\n",
        "print(\"RMSE:\", mean_squared_error(y_true, y_pred) ** 0.5)"
      ]
    },
    {
      "cell_type": "code",
      "execution_count": null,
      "metadata": {
        "id": "TahD0SaP7w35"
      },
      "outputs": [],
      "source": []
    },
    {
      "cell_type": "code",
      "execution_count": null,
      "metadata": {
        "id": "fCZkEkJA7wrK"
      },
      "outputs": [],
      "source": []
    },
    {
      "cell_type": "code",
      "execution_count": null,
      "metadata": {
        "id": "pbR3Bl1b-g_t"
      },
      "outputs": [],
      "source": []
    },
    {
      "cell_type": "code",
      "execution_count": null,
      "metadata": {
        "id": "nZpmw2ni-g9N"
      },
      "outputs": [],
      "source": []
    },
    {
      "cell_type": "code",
      "execution_count": null,
      "metadata": {
        "id": "s3IUvlow-g62"
      },
      "outputs": [],
      "source": []
    },
    {
      "cell_type": "code",
      "execution_count": 14,
      "metadata": {
        "id": "BgxmA0BK-g1u"
      },
      "outputs": [],
      "source": [
        "# ------------------------------\n",
        "# 지점(branch_id) 숫자 인코딩\n",
        "# ------------------------------\n",
        "df['branch_id_encoded'] = df['train_heat.branch_id'].astype('category').cat.codes  # 예: A=0, B=1, D=2\n",
        "\n",
        "# train / test용 branch_id 배열 분리\n",
        "branch_ids = df['branch_id_encoded'].values\n",
        "branch_ids_train = branch_ids[df['year'] == 2021]\n",
        "branch_ids_test = branch_ids[df['year'] == 2022]\n",
        "\n",
        "# 지점 개수 파악 (Embedding에서 사용됨)\n",
        "num_branches = df['branch_id_encoded'].nunique()\n"
      ]
    },
    {
      "cell_type": "code",
      "execution_count": 15,
      "metadata": {
        "colab": {
          "base_uri": "https://localhost:8080/",
          "height": 706
        },
        "id": "mvW1JPHB-gyv",
        "outputId": "816ebcde-bdaf-4386-a415-d71e4c32ef78"
      },
      "outputs": [
        {
          "name": "stdout",
          "output_type": "stream",
          "text": [
            "Epoch 1/20, Loss: 41036.9127\n",
            "Epoch 2/20, Loss: 30458.1780\n",
            "Epoch 3/20, Loss: 23207.9311\n",
            "Epoch 4/20, Loss: 18075.5999\n",
            "Epoch 5/20, Loss: 14318.3260\n",
            "Epoch 6/20, Loss: 11640.4763\n",
            "Epoch 7/20, Loss: 9727.4183\n",
            "Epoch 8/20, Loss: 8614.3308\n",
            "Epoch 9/20, Loss: 7622.4971\n",
            "Epoch 10/20, Loss: 6875.4850\n",
            "Epoch 11/20, Loss: 6393.9889\n",
            "Epoch 12/20, Loss: 6122.7588\n",
            "Epoch 13/20, Loss: 5857.1144\n",
            "Epoch 14/20, Loss: 5708.3685\n",
            "Epoch 15/20, Loss: 5579.1000\n",
            "Epoch 16/20, Loss: 5505.4975\n",
            "Epoch 17/20, Loss: 5391.1717\n",
            "Epoch 18/20, Loss: 5336.5869\n",
            "Epoch 19/20, Loss: 5326.4826\n",
            "Epoch 20/20, Loss: 5324.9775\n"
          ]
        },
        {
          "data": {
            "image/png": "[encoded data removed]",
            "text/plain": [
              "<Figure size 1200x400 with 1 Axes>"
            ]
          },
          "metadata": {},
          "output_type": "display_data"
        }
      ],
      "source": [
        "# DeepAR Dataset\n",
        "# ---------------------\n",
        "class DeepARDataset(Dataset):\n",
        "    def __init__(self, X, y, window_size):\n",
        "        self.X = torch.tensor(X, dtype=torch.float32)\n",
        "        self.y = torch.tensor(y, dtype=torch.float32)\n",
        "        self.window_size = window_size\n",
        "\n",
        "    def __len__(self):\n",
        "        return len(self.X) - self.window_size\n",
        "\n",
        "    def __getitem__(self, idx):\n",
        "        x_seq = self.X[idx:idx+self.window_size]\n",
        "        y_seq = self.y[idx:idx+self.window_size]\n",
        "        target = self.y[idx+self.window_size]\n",
        "        return x_seq, y_seq.unsqueeze(-1), target\n",
        "\n",
        "# ---------------------\n",
        "# attentionDeepAR Model\n",
        "# ---------------------\n",
        "# Attention 추가된 DeepAR\n",
        "class AttentionDeepAR(nn.Module):\n",
        "    def __init__(self, input_size, hidden_size, num_layers):\n",
        "        super().__init__()\n",
        "        self.rnn = nn.LSTM(input_size + 1, hidden_size, num_layers, batch_first=True)\n",
        "        self.attn = nn.Linear(hidden_size, 1)\n",
        "        self.fc = nn.Linear(hidden_size, 1)\n",
        "\n",
        "    def forward(self, x, y_hist):\n",
        "        inp = torch.cat((x, y_hist), dim=2)  # [B, T, input_size + 1]\n",
        "        out, _ = self.rnn(inp)               # [B, T, H]\n",
        "        attn_weights = torch.softmax(self.attn(out), dim=1)  # [B, T, 1]\n",
        "        context = (out * attn_weights).sum(dim=1)            # [B, H]\n",
        "        output = self.fc(context)                            # [B, 1]\n",
        "        return output, attn_weights\n",
        "\n",
        "\n",
        "# ---------------------\n",
        "# 학습 준비\n",
        "# ---------------------\n",
        "window_size = 48\n",
        "train_dataset = DeepARDataset(X_train, y_train.values, window_size)\n",
        "test_dataset = DeepARDataset(X_test, y_test.values, window_size)\n",
        "\n",
        "train_loader = DataLoader(train_dataset, batch_size=32, shuffle=True)\n",
        "test_loader = DataLoader(test_dataset, batch_size=32)\n",
        "\n",
        "device = torch.device(\"cuda\" if torch.cuda.is_available() else \"cpu\")\n",
        "model = AttentionDeepAR(input_size=X_train.shape[1], hidden_size=64, num_layers=2).to(device)\n",
        "optimizer = torch.optim.Adam(model.parameters(), lr=0.001)\n",
        "criterion = nn.MSELoss()\n",
        "\n",
        "# ---------------------\n",
        "# 학습\n",
        "# ---------------------\n",
        "epochs = 20\n",
        "for epoch in range(epochs):\n",
        "    model.train()\n",
        "    total_loss = 0\n",
        "    for x, y_hist, target in train_loader:\n",
        "      x, y_hist, target = x.to(device), y_hist.to(device), target.to(device).unsqueeze(1)\n",
        "      optimizer.zero_grad()\n",
        "      output, _ = model(x, y_hist)  # <-- 여기서 output, _ 로 분리\n",
        "      loss = criterion(output, target)\n",
        "      loss.backward()\n",
        "      optimizer.step()\n",
        "      total_loss += loss.item()\n",
        "\n",
        "    print(f\"Epoch {epoch+1}/{epochs}, Loss: {total_loss/len(train_loader):.4f}\")\n",
        "\n",
        "\n",
        "# ---------------------\n",
        "# 평가 및 시각화\n",
        "# ---------------------\n",
        "model.eval()\n",
        "x, y_hist, _ = next(iter(test_loader))\n",
        "x, y_hist = x.to(device), y_hist.to(device)\n",
        "with torch.no_grad():\n",
        "    _, attn_weights = model(x, y_hist)\n",
        "\n",
        "attn_weights = attn_weights.squeeze(-1)[0].cpu().numpy()  # 첫 샘플의 [T] attention\n",
        "plt.figure(figsize=(12, 4))\n",
        "plt.plot(attn_weights, marker='o')\n",
        "plt.title(\"Attention Weights Over Time Steps (First Test Sample)\")\n",
        "plt.xlabel(\"Time Step\")\n",
        "plt.ylabel(\"Attention Weight\")\n",
        "plt.grid()\n",
        "plt.show()\n"
      ]
    },
    {
      "cell_type": "code",
      "execution_count": 16,
      "metadata": {
        "id": "R4inG1eC-lt6"
      },
      "outputs": [],
      "source": [
        "# ------------------------------\n",
        "# 지점(branch_id) 숫자 인코딩\n",
        "# ------------------------------\n",
        "df['branch_id_encoded'] = df['train_heat.branch_id'].astype('category').cat.codes  # 예: A=0, B=1, D=2\n",
        "\n",
        "# train / test용 branch_id 배열 분리\n",
        "branch_ids = df['branch_id_encoded'].values\n",
        "branch_ids_train = branch_ids[df['year'] == 2021]\n",
        "branch_ids_test = branch_ids[df['year'] == 2022]\n",
        "\n",
        "# 지점 개수 파악 (Embedding에서 사용됨)\n",
        "num_branches = df['branch_id_encoded'].nunique()\n"
      ]
    },
    {
      "cell_type": "code",
      "execution_count": 17,
      "metadata": {
        "colab": {
          "base_uri": "https://localhost:8080/",
          "height": 709
        },
        "id": "LjYdbApI-5wW",
        "outputId": "0ba697bb-814f-4f4e-8bc5-c9be1612f17c"
      },
      "outputs": [
        {
          "name": "stdout",
          "output_type": "stream",
          "text": [
            "Epoch 1/20, Loss: 40996.9365\n",
            "Epoch 2/20, Loss: 30294.7290\n",
            "Epoch 3/20, Loss: 22811.4673\n",
            "Epoch 4/20, Loss: 17459.6887\n",
            "Epoch 5/20, Loss: 13568.1210\n",
            "Epoch 6/20, Loss: 10602.5835\n",
            "Epoch 7/20, Loss: 8351.7131\n",
            "Epoch 8/20, Loss: 6627.8705\n",
            "Epoch 9/20, Loss: 5318.5430\n",
            "Epoch 10/20, Loss: 4327.7205\n",
            "Epoch 11/20, Loss: 3587.0530\n",
            "Epoch 12/20, Loss: 3029.7319\n",
            "Epoch 13/20, Loss: 2578.8039\n",
            "Epoch 14/20, Loss: 2282.1854\n",
            "Epoch 15/20, Loss: 2012.8848\n",
            "Epoch 16/20, Loss: 1720.3250\n",
            "Epoch 17/20, Loss: 1588.4760\n",
            "Epoch 18/20, Loss: 1380.4223\n",
            "Epoch 19/20, Loss: 1288.1934\n",
            "Epoch 20/20, Loss: 1115.7047\n"
          ]
        },
        {
          "data": {
            "image/png": "[encoded data removed]",
            "text/plain": [
              "<Figure size 1200x400 with 1 Axes>"
            ]
          },
          "metadata": {},
          "output_type": "display_data"
        }
      ],
      "source": [
        "\n",
        "# ---------------------\n",
        "# DeepAR Dataset 확장 (branch_id 포함)\n",
        "# ---------------------\n",
        "class DeepARDataset(Dataset):\n",
        "    def __init__(self, X, y, branch_ids, window_size, num_branches):\n",
        "        self.X = torch.tensor(X, dtype=torch.float32)                 # [N, input_size]\n",
        "        self.y = torch.tensor(y, dtype=torch.float32)                 # [N]\n",
        "        self.branch_ids = torch.tensor(branch_ids, dtype=torch.long)  # [N]\n",
        "        self.window_size = window_size\n",
        "        self.num_branches = num_branches\n",
        "\n",
        "    def __len__(self):\n",
        "        return len(self.X) - self.window_size\n",
        "\n",
        "    def __getitem__(self, idx):\n",
        "        x_seq = self.X[idx:idx+self.window_size]                      # [T, input_size]\n",
        "        y_seq = self.y[idx:idx+self.window_size].unsqueeze(-1)        # [T, 1]\n",
        "        target = self.y[idx+self.window_size]                         # scalar\n",
        "        branch_id = self.branch_ids[idx+self.window_size]             # scalar\n",
        "        return x_seq, y_seq, target, branch_id\n",
        "\n",
        "\n",
        "# ---------------------\n",
        "# Attention 기반 DeepAR 모델 확장 (branch_id Embedding 포함)\n",
        "# ---------------------\n",
        "class AttentionDeepAR(nn.Module):\n",
        "    def __init__(self, input_size, hidden_size, num_layers, num_branches, embedding_dim=8):\n",
        "        super().__init__()\n",
        "        self.embedding = nn.Embedding(num_branches, embedding_dim)\n",
        "        self.rnn = nn.LSTM(input_size + 1 + embedding_dim, hidden_size, num_layers, batch_first=True)\n",
        "        self.attn = nn.Linear(hidden_size, 1)\n",
        "        self.fc = nn.Linear(hidden_size, 1)\n",
        "\n",
        "    def forward(self, x, y_hist, branch_ids):\n",
        "        batch_size, seq_len, _ = x.size()\n",
        "        emb = self.embedding(branch_ids)                          # [B, emb_dim]\n",
        "        emb_seq = emb.unsqueeze(1).repeat(1, seq_len, 1)          # [B, T, emb_dim]\n",
        "        inp = torch.cat((x, y_hist, emb_seq), dim=2)              # [B, T, input_size+1+emb_dim]\n",
        "        out, _ = self.rnn(inp)                                     # [B, T, hidden_size]\n",
        "        attn_weights = torch.softmax(self.attn(out), dim=1)       # [B, T, 1]\n",
        "        context = (out * attn_weights).sum(dim=1)                  # [B, hidden_size]\n",
        "        output = self.fc(context)                                  # [B, 1]\n",
        "        return output, attn_weights\n",
        "\n",
        "\n",
        "# ---------------------\n",
        "# 학습 준비 (예시)\n",
        "# ---------------------\n",
        "window_size = 48\n",
        "num_branches = 10  # 지점 개수 예시, 실제 데이터에 맞게 변경\n",
        "\n",
        "train_dataset = DeepARDataset(X_train, y_train.values, branch_ids_train, window_size, num_branches)\n",
        "test_dataset = DeepARDataset(X_test, y_test.values, branch_ids_test, window_size, num_branches)\n",
        "\n",
        "train_loader = DataLoader(train_dataset, batch_size=32, shuffle=True)\n",
        "test_loader = DataLoader(test_dataset, batch_size=32)\n",
        "\n",
        "device = torch.device(\"cuda\" if torch.cuda.is_available() else \"cpu\")\n",
        "model = AttentionDeepAR(input_size=X_train.shape[1], hidden_size=64, num_layers=2, num_branches=num_branches, embedding_dim=8).to(device)\n",
        "optimizer = torch.optim.Adam(model.parameters(), lr=0.001)\n",
        "criterion = nn.MSELoss()\n",
        "\n",
        "# ---------------------\n",
        "# 학습 루프\n",
        "# ---------------------\n",
        "epochs = 20\n",
        "for epoch in range(epochs):\n",
        "    model.train()\n",
        "    total_loss = 0\n",
        "    for x, y_hist, target, branch_id in train_loader:\n",
        "        x, y_hist, target, branch_id = x.to(device), y_hist.to(device), target.to(device).unsqueeze(1), branch_id.to(device)\n",
        "        optimizer.zero_grad()\n",
        "        output, _ = model(x, y_hist, branch_id)\n",
        "        loss = criterion(output, target)\n",
        "        loss.backward()\n",
        "        optimizer.step()\n",
        "        total_loss += loss.item()\n",
        "    print(f\"Epoch {epoch+1}/{epochs}, Loss: {total_loss/len(train_loader):.4f}\")\n",
        "\n",
        "# ---------------------\n",
        "# 평가 및 Attention 시각화\n",
        "# ---------------------\n",
        "model.eval()\n",
        "x, y_hist, _, branch_id = next(iter(test_loader))\n",
        "x, y_hist, branch_id = x.to(device), y_hist.to(device), branch_id.to(device)\n",
        "with torch.no_grad():\n",
        "    _, attn_weights = model(x, y_hist, branch_id)\n",
        "\n",
        "attn_weights = attn_weights.squeeze(-1)[0].cpu().numpy()  # 첫 샘플 attention\n",
        "plt.figure(figsize=(12, 4))\n",
        "plt.plot(attn_weights, marker='o')\n",
        "plt.title(\"Attention Weights Over Time Steps (First Test Sample)\")\n",
        "plt.xlabel(\"Time Step\")\n",
        "plt.ylabel(\"Attention Weight\")\n",
        "plt.grid()\n",
        "plt.show()\n"
      ]
    },
    {
      "cell_type": "code",
      "execution_count": 18,
      "metadata": {
        "colab": {
          "base_uri": "https://localhost:8080/"
        },
        "id": "gAljEt7XHb3p",
        "outputId": "9f44966e-224c-47f4-b42a-d4722c113168"
      },
      "outputs": [
        {
          "name": "stdout",
          "output_type": "stream",
          "text": [
            "RMSE: 34.200801514273756\n"
          ]
        }
      ],
      "source": [
        "model.eval()\n",
        "preds, trues = [], []\n",
        "\n",
        "with torch.no_grad():\n",
        "    for x, y_hist, target, branch_id in test_loader:\n",
        "        x, y_hist = x.to(device), y_hist.to(device)\n",
        "        branch_id = branch_id.to(device)\n",
        "        pred, _ = model(x, y_hist, branch_id)\n",
        "        preds.append(pred.cpu().squeeze())\n",
        "        trues.append(target)\n",
        "\n",
        "y_pred = torch.cat(preds).numpy()\n",
        "y_true = torch.cat(trues).numpy()\n",
        "\n",
        "from sklearn.metrics import mean_squared_error\n",
        "print(\"RMSE:\", mean_squared_error(y_true, y_pred) ** 0.5)"
      ]
    },
    {
      "cell_type": "code",
      "execution_count": null,
      "metadata": {
        "id": "tH7MAuTLKWlg"
      },
      "outputs": [],
      "source": []
    }
  ],
  "metadata": {
    "colab": {
      "provenance": []
    },
    "kernelspec": {
      "display_name": "Python 3",
      "name": "python3"
    },
    "language_info": {
      "name": "python"
    }
  },
  "nbformat": 4,
  "nbformat_minor": 0
}
